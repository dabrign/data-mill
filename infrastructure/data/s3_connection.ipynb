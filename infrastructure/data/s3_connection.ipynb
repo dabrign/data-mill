{
 "cells": [
  {
   "cell_type": "code",
   "execution_count": 3,
   "metadata": {},
   "outputs": [
    {
     "name": "stdout",
     "output_type": "stream",
     "text": [
      "Collecting s3fs\n",
      "Collecting botocore (from s3fs)\n",
      "\u001b[?25l  Downloading https://files.pythonhosted.org/packages/6d/13/f2fc99fae54a61ab908752d1d7c8e3191c155f63675d5fc6fb3212e17b3f/botocore-1.12.72-py2.py3-none-any.whl (5.2MB)\n",
      "\u001b[K    100% |████████████████████████████████| 5.2MB 1.5MB/s \n",
      "\u001b[?25hRequirement already satisfied: six in /opt/conda/lib/python3.6/site-packages (from s3fs) (1.12.0)\n",
      "Collecting boto3 (from s3fs)\n",
      "\u001b[?25l  Downloading https://files.pythonhosted.org/packages/fd/95/06770d409b122a568e65fae31c433064ef7f2ab5f26285e498c21a6ef830/boto3-1.9.72-py2.py3-none-any.whl (128kB)\n",
      "\u001b[K    100% |████████████████████████████████| 133kB 1.4MB/s \n",
      "\u001b[?25hRequirement already satisfied: urllib3<1.25,>=1.20; python_version >= \"3.4\" in /opt/conda/lib/python3.6/site-packages (from botocore->s3fs) (1.24.1)\n",
      "Requirement already satisfied: python-dateutil<3.0.0,>=2.1; python_version >= \"2.7\" in /opt/conda/lib/python3.6/site-packages (from botocore->s3fs) (2.7.5)\n",
      "Collecting jmespath<1.0.0,>=0.7.1 (from botocore->s3fs)\n",
      "  Using cached https://files.pythonhosted.org/packages/b7/31/05c8d001f7f87f0f07289a5fc0fc3832e9a57f2dbd4d3b0fee70e0d51365/jmespath-0.9.3-py2.py3-none-any.whl\n",
      "Collecting docutils>=0.10 (from botocore->s3fs)\n",
      "  Using cached https://files.pythonhosted.org/packages/36/fa/08e9e6e0e3cbd1d362c3bbee8d01d0aedb2155c4ac112b19ef3cae8eed8d/docutils-0.14-py3-none-any.whl\n",
      "Collecting s3transfer<0.2.0,>=0.1.10 (from boto3->s3fs)\n",
      "  Using cached https://files.pythonhosted.org/packages/d7/14/2a0004d487464d120c9fb85313a75cd3d71a7506955be458eebfe19a6b1d/s3transfer-0.1.13-py2.py3-none-any.whl\n",
      "Installing collected packages: jmespath, docutils, botocore, s3transfer, boto3, s3fs\n",
      "Successfully installed boto3-1.9.72 botocore-1.12.72 docutils-0.14 jmespath-0.9.3 s3fs-0.2.0 s3transfer-0.1.13\n"
     ]
    }
   ],
   "source": [
    "!pip install s3fs"
   ]
  },
  {
   "cell_type": "code",
   "execution_count": 4,
   "metadata": {},
   "outputs": [],
   "source": [
    "import s3fs"
   ]
  },
  {
   "cell_type": "code",
   "execution_count": 5,
   "metadata": {},
   "outputs": [],
   "source": [
    "s3 = s3fs.S3FileSystem(key='Ae8rNrsuUywjKzGv8GoB4TUEZidFBzBp',\n",
    "                       secret='2bd1769fa2353c73922716e611fb0e65a82222ded98f803eb79349d65114a072',\n",
    "                       client_kwargs={\"endpoint_url\":'http://minio-datalake:9000'})"
   ]
  },
  {
   "cell_type": "code",
   "execution_count": 6,
   "metadata": {},
   "outputs": [
    {
     "data": {
      "text/plain": [
       "['example']"
      ]
     },
     "execution_count": 6,
     "metadata": {},
     "output_type": "execute_result"
    }
   ],
   "source": [
    "s3.ls(\"\")"
   ]
  },
  {
   "cell_type": "code",
   "execution_count": null,
   "metadata": {},
   "outputs": [],
   "source": []
  }
 ],
 "metadata": {
  "kernelspec": {
   "display_name": "Python 3",
   "language": "python",
   "name": "python3"
  },
  "language_info": {
   "codemirror_mode": {
    "name": "ipython",
    "version": 3
   },
   "file_extension": ".py",
   "mimetype": "text/x-python",
   "name": "python",
   "nbconvert_exporter": "python",
   "pygments_lexer": "ipython3",
   "version": "3.6.7"
  }
 },
 "nbformat": 4,
 "nbformat_minor": 2
}
